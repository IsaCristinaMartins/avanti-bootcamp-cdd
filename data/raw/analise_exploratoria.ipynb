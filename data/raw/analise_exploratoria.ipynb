{
 "cells": [
  {
   "cell_type": "code",
   "execution_count": null,
   "id": "2e786cb3",
   "metadata": {},
   "outputs": [],
   "source": [
    "#Análise exploratória dos dados"
   ]
  },
  {
   "cell_type": "code",
   "execution_count": 1,
   "id": "2327a304",
   "metadata": {},
   "outputs": [],
   "source": [
    "### para manipulação  \n",
    "import pandas as pd\n",
    "import numpy as np\n",
    "import math\n",
    "### para visualizacao \n",
    "import seaborn as sns\n",
    "import matplotlib.pyplot as plt\n",
    "### para obter estatisticas de teste\n",
    "import scipy.stats as stats\n",
    "from scipy.stats import norm"
   ]
  },
  {
   "cell_type": "code",
   "execution_count": null,
   "id": "9a41524d",
   "metadata": {},
   "outputs": [],
   "source": [
    "#Descrição dos dados \n",
    "# carat* >> quilate  \n",
    "# cut   >> corte\n",
    "# color >> cor  \n",
    "# clarity >> clareza\n",
    "# depth* >> profundidade \n",
    "# table* >> propoção\n",
    "# price* >> preço\n",
    "# X >> \n",
    "# Y >>\n",
    "# Z >> "
   ]
  },
  {
   "cell_type": "code",
   "execution_count": null,
   "id": "d3c69ada",
   "metadata": {},
   "outputs": [],
   "source": [
    "df_diamonds = pd.read_csv(\"diamonds.csv\", delimiter=',')\n",
    "df_diamonds.head(10)"
   ]
  },
  {
   "cell_type": "code",
   "execution_count": null,
   "id": "c970c743",
   "metadata": {},
   "outputs": [],
   "source": [
    "#Análise do tipo das variáveis a serem analisadas\n",
    "df_diamonds.info()"
   ]
  },
  {
   "cell_type": "code",
   "execution_count": 14,
   "id": "1853a094",
   "metadata": {},
   "outputs": [
    {
     "name": "stdout",
     "output_type": "stream",
     "text": [
      "Análise estatística descritiva geral do quesito quilates:\n",
      "count    53940.000000\n",
      "mean         0.797940\n",
      "std          0.474011\n",
      "min          0.200000\n",
      "25%          0.400000\n",
      "50%          0.700000\n",
      "75%          1.040000\n",
      "max          5.010000\n",
      "Name: carat, dtype: float64\n",
      "Análise estatística descritiva geral do quesito profundidade:\n",
      "count    53940.000000\n",
      "mean        61.749405\n",
      "std          1.432621\n",
      "min         43.000000\n",
      "25%         61.000000\n",
      "50%         61.800000\n",
      "75%         62.500000\n",
      "max         79.000000\n",
      "Name: depth, dtype: float64\n",
      "Análise estatística descritiva geral do quesito proporção:\n",
      "count    53940.000000\n",
      "mean        57.457184\n",
      "std          2.234491\n",
      "min         43.000000\n",
      "25%         56.000000\n",
      "50%         57.000000\n",
      "75%         59.000000\n",
      "max         95.000000\n",
      "Name: table, dtype: float64\n",
      "Análise estatística descritiva geral do quesito preço:\n",
      "count    53940.000000\n",
      "mean      3932.799722\n",
      "std       3989.439738\n",
      "min        326.000000\n",
      "25%        950.000000\n",
      "50%       2401.000000\n",
      "75%       5324.250000\n",
      "max      18823.000000\n",
      "Name: price, dtype: float64\n",
      "Análise estatística descritiva geral do quesito comprimento:\n",
      "count    53940.000000\n",
      "mean         5.731157\n",
      "std          1.121761\n",
      "min          0.000000\n",
      "25%          4.710000\n",
      "50%          5.700000\n",
      "75%          6.540000\n",
      "max         10.740000\n",
      "Name: x, dtype: float64\n",
      "Análise estatística descritiva geral do quesito Largura:\n",
      "count    53940.000000\n",
      "mean         5.734526\n",
      "std          1.142135\n",
      "min          0.000000\n",
      "25%          4.720000\n",
      "50%          5.710000\n",
      "75%          6.540000\n",
      "max         58.900000\n",
      "Name: y, dtype: float64\n",
      "Análise estatística descritiva geral do quesito altura:\n",
      "count    53940.000000\n",
      "mean         3.538734\n",
      "std          0.705699\n",
      "min          0.000000\n",
      "25%          2.910000\n",
      "50%          3.530000\n",
      "75%          4.040000\n",
      "max         31.800000\n",
      "Name: z, dtype: float64\n"
     ]
    }
   ],
   "source": [
    "#Análise  das estatisticas descritiva geral do DF \n",
    "analise_quilates = df_diamonds['carat'].describe()\n",
    "print(f'Análise estatística descritiva geral do quesito quilates:')\n",
    "print(analise_quilates)\n",
    "\n",
    "analise_profundidade = df_diamonds['depth'].describe()\n",
    "print(f'Análise estatística descritiva geral do quesito profundidade:')\n",
    "print(analise_profundidade)\n",
    "\n",
    "analise_proporcao = df_diamonds['table'].describe()\n",
    "print(f'Análise estatística descritiva geral do quesito proporção:')\n",
    "print(analise_proporcao)\n",
    "\n",
    "analise_preco = df_diamonds['price'].describe()\n",
    "print(f'Análise estatística descritiva geral do quesito preço:')\n",
    "print(analise_preco)\n",
    "\n",
    "analise_comprimento = df_diamonds['x'].describe()\n",
    "print(f'Análise estatística descritiva geral do quesito comprimento:')\n",
    "print(analise_comprimento)\n",
    "\n",
    "analise_largura = df_diamonds['y'].describe()\n",
    "print(f'Análise estatística descritiva geral do quesito Largura:')\n",
    "print(analise_largura)\n",
    "\n",
    "analise_altura = df_diamonds['z'].describe()\n",
    "print(f'Análise estatística descritiva geral do quesito altura:')\n",
    "print(analise_altura)"
   ]
  },
  {
   "cell_type": "code",
   "execution_count": null,
   "id": "be6d6d34",
   "metadata": {},
   "outputs": [],
   "source": []
  },
  {
   "cell_type": "code",
   "execution_count": null,
   "id": "7fe72fdd",
   "metadata": {},
   "outputs": [],
   "source": []
  },
  {
   "cell_type": "code",
   "execution_count": null,
   "id": "7712a756",
   "metadata": {},
   "outputs": [],
   "source": []
  }
 ],
 "metadata": {
  "kernelspec": {
   "display_name": "Python 3 (ipykernel)",
   "language": "python",
   "name": "python3"
  },
  "language_info": {
   "codemirror_mode": {
    "name": "ipython",
    "version": 3
   },
   "file_extension": ".py",
   "mimetype": "text/x-python",
   "name": "python",
   "nbconvert_exporter": "python",
   "pygments_lexer": "ipython3",
   "version": "3.10.11"
  }
 },
 "nbformat": 4,
 "nbformat_minor": 5
}
